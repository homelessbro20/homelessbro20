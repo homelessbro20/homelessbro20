{
 "cells": [
  {
   "cell_type": "code",
   "execution_count": 1,
   "id": "8cae33ca",
   "metadata": {},
   "outputs": [],
   "source": [
    "#documentation\n",
    "#I tried to take as much advantage of the soacebar as I could to aid me in the creation of the star keeping\n",
    "#in mind the cosmetics in making this star\n",
    "#using new lines in order to make the different points of the star as well"
   ]
  },
  {
   "cell_type": "code",
   "execution_count": 1,
   "id": "7be992f1",
   "metadata": {},
   "outputs": [
    {
     "name": "stdout",
     "output_type": "stream",
     "text": [
      "\t*\n",
      "\n",
      "\n",
      "\n",
      "*              *\n",
      "\n",
      "\n",
      "\n",
      "     *\t  *\n"
     ]
    },
    {
     "data": {
      "text/plain": [
       "(None, None, None)"
      ]
     },
     "execution_count": 1,
     "metadata": {},
     "output_type": "execute_result"
    }
   ],
   "source": [
    "print(\"\\t*\"),print(\"\\n\\n\\n*              *\"),print(\"\\n\\n\\n     *\\t  *\")"
   ]
  },
  {
   "cell_type": "code",
   "execution_count": 1,
   "id": "820d12b0",
   "metadata": {},
   "outputs": [
    {
     "data": {
      "text/plain": [
       "'\\nJose Solis\\nCSC 106\\nHW02\\nQuestion last of the day\\n09/11/2023\\n'"
      ]
     },
     "execution_count": 1,
     "metadata": {},
     "output_type": "execute_result"
    }
   ],
   "source": [
    "'''\n",
    "Jose Solis\n",
    "CSC 106\n",
    "HW02\n",
    "Question last of the day\n",
    "09/11/2023\n",
    "'''"
   ]
  },
  {
   "cell_type": "code",
   "execution_count": null,
   "id": "3f2e8188",
   "metadata": {},
   "outputs": [],
   "source": []
  }
 ],
 "metadata": {
  "kernelspec": {
   "display_name": "Python 3 (ipykernel)",
   "language": "python",
   "name": "python3"
  },
  "language_info": {
   "codemirror_mode": {
    "name": "ipython",
    "version": 3
   },
   "file_extension": ".py",
   "mimetype": "text/x-python",
   "name": "python",
   "nbconvert_exporter": "python",
   "pygments_lexer": "ipython3",
   "version": "3.10.12"
  }
 },
 "nbformat": 4,
 "nbformat_minor": 5
}
