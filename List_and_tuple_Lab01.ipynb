{
 "cells": [
  {
   "cell_type": "code",
   "execution_count": 1,
   "id": "917d791c",
   "metadata": {},
   "outputs": [],
   "source": [
    "Numbers = (1.0, 9,9, 10)"
   ]
  },
  {
   "cell_type": "code",
   "execution_count": 2,
   "id": "bd365efc",
   "metadata": {},
   "outputs": [
    {
     "data": {
      "text/plain": [
       "(1.0, 9, 9, 10)"
      ]
     },
     "execution_count": 2,
     "metadata": {},
     "output_type": "execute_result"
    }
   ],
   "source": [
    "Numbers"
   ]
  },
  {
   "cell_type": "code",
   "execution_count": 8,
   "id": "1f3f3c2d",
   "metadata": {},
   "outputs": [],
   "source": [
    "Student_Names = ('jose', 'josh', 'tony')"
   ]
  },
  {
   "cell_type": "code",
   "execution_count": 6,
   "id": "382773c1",
   "metadata": {},
   "outputs": [
    {
     "data": {
      "text/plain": [
       "'jose, josh, tony'"
      ]
     },
     "execution_count": 6,
     "metadata": {},
     "output_type": "execute_result"
    }
   ],
   "source": [
    "Student_Names"
   ]
  },
  {
   "cell_type": "code",
   "execution_count": 7,
   "id": "94e267bf",
   "metadata": {},
   "outputs": [
    {
     "data": {
      "text/plain": [
       "str"
      ]
     },
     "execution_count": 7,
     "metadata": {},
     "output_type": "execute_result"
    }
   ],
   "source": [
    "type(Student_Names)"
   ]
  },
  {
   "cell_type": "code",
   "execution_count": 9,
   "id": "96cf4b75",
   "metadata": {},
   "outputs": [
    {
     "data": {
      "text/plain": [
       "('jose', 'josh', 'tony')"
      ]
     },
     "execution_count": 9,
     "metadata": {},
     "output_type": "execute_result"
    }
   ],
   "source": [
    "Student_Names"
   ]
  },
  {
   "cell_type": "code",
   "execution_count": 10,
   "id": "b21b5b1b",
   "metadata": {},
   "outputs": [
    {
     "data": {
      "text/plain": [
       "tuple"
      ]
     },
     "execution_count": 10,
     "metadata": {},
     "output_type": "execute_result"
    }
   ],
   "source": [
    "type(Student_Names)"
   ]
  },
  {
   "cell_type": "code",
   "execution_count": 11,
   "id": "ae48a61a",
   "metadata": {},
   "outputs": [
    {
     "ename": "SyntaxError",
     "evalue": "invalid syntax (1393578285.py, line 1)",
     "output_type": "error",
     "traceback": [
      "\u001b[0;36m  File \u001b[0;32m\"/tmp/ipykernel_4758/1393578285.py\"\u001b[0;36m, line \u001b[0;32m1\u001b[0m\n\u001b[0;31m    Student_Names{0}\u001b[0m\n\u001b[0m                 ^\u001b[0m\n\u001b[0;31mSyntaxError\u001b[0m\u001b[0;31m:\u001b[0m invalid syntax\n"
     ]
    }
   ],
   "source": [
    "Student_Names{0}"
   ]
  },
  {
   "cell_type": "code",
   "execution_count": 12,
   "id": "c206e121",
   "metadata": {},
   "outputs": [
    {
     "data": {
      "text/plain": [
       "'jose'"
      ]
     },
     "execution_count": 12,
     "metadata": {},
     "output_type": "execute_result"
    }
   ],
   "source": [
    "Student_Names[0]"
   ]
  },
  {
   "cell_type": "code",
   "execution_count": 13,
   "id": "0afd3d56",
   "metadata": {},
   "outputs": [
    {
     "data": {
      "text/plain": [
       "str"
      ]
     },
     "execution_count": 13,
     "metadata": {},
     "output_type": "execute_result"
    }
   ],
   "source": [
    "type(Student_Names[1])"
   ]
  },
  {
   "cell_type": "code",
   "execution_count": 14,
   "id": "754251d8",
   "metadata": {},
   "outputs": [],
   "source": [
    "Student_Names = ('jose', 1, 'tony')"
   ]
  },
  {
   "cell_type": "code",
   "execution_count": 15,
   "id": "7af72bcc",
   "metadata": {},
   "outputs": [
    {
     "data": {
      "text/plain": [
       "int"
      ]
     },
     "execution_count": 15,
     "metadata": {},
     "output_type": "execute_result"
    }
   ],
   "source": [
    "type(Student_Names[1])"
   ]
  },
  {
   "cell_type": "code",
   "execution_count": 16,
   "id": "d2b656cd",
   "metadata": {},
   "outputs": [
    {
     "ename": "NameError",
     "evalue": "name 'Name' is not defined",
     "output_type": "error",
     "traceback": [
      "\u001b[0;31m---------------------------------------------------------------------------\u001b[0m",
      "\u001b[0;31mNameError\u001b[0m                                 Traceback (most recent call last)",
      "\u001b[0;32m/tmp/ipykernel_4758/586891876.py\u001b[0m in \u001b[0;36m<module>\u001b[0;34m\u001b[0m\n\u001b[0;32m----> 1\u001b[0;31m \u001b[0mStudent_ID\u001b[0m \u001b[0;34m=\u001b[0m \u001b[0;34m(\u001b[0m\u001b[0mName\u001b[0m\u001b[0;34m,\u001b[0m \u001b[0mClass\u001b[0m\u001b[0;34m,\u001b[0m \u001b[0mHomework\u001b[0m\u001b[0;34m,\u001b[0m \u001b[0mQuestion\u001b[0m\u001b[0;34m,\u001b[0m \u001b[0mGrade\u001b[0m\u001b[0;34m,\u001b[0m \u001b[0mDate\u001b[0m\u001b[0;34m)\u001b[0m\u001b[0;34m\u001b[0m\u001b[0;34m\u001b[0m\u001b[0m\n\u001b[0m",
      "\u001b[0;31mNameError\u001b[0m: name 'Name' is not defined"
     ]
    }
   ],
   "source": [
    "Student_ID = (Name, Class, Homework, Question, Grade, Date)"
   ]
  },
  {
   "cell_type": "code",
   "execution_count": 17,
   "id": "2dcdd5df",
   "metadata": {},
   "outputs": [],
   "source": [
    "Name='Jose'"
   ]
  },
  {
   "cell_type": "code",
   "execution_count": 18,
   "id": "e81f4aed",
   "metadata": {},
   "outputs": [
    {
     "ename": "NameError",
     "evalue": "name 'Student_ID' is not defined",
     "output_type": "error",
     "traceback": [
      "\u001b[0;31m---------------------------------------------------------------------------\u001b[0m",
      "\u001b[0;31mNameError\u001b[0m                                 Traceback (most recent call last)",
      "\u001b[0;32m/tmp/ipykernel_4758/1587731348.py\u001b[0m in \u001b[0;36m<module>\u001b[0;34m\u001b[0m\n\u001b[0;32m----> 1\u001b[0;31m \u001b[0mStudent_ID\u001b[0m\u001b[0;34m\u001b[0m\u001b[0;34m\u001b[0m\u001b[0m\n\u001b[0m",
      "\u001b[0;31mNameError\u001b[0m: name 'Student_ID' is not defined"
     ]
    }
   ],
   "source": [
    "Student_ID"
   ]
  },
  {
   "cell_type": "code",
   "execution_count": 19,
   "id": "1082d1dd",
   "metadata": {},
   "outputs": [],
   "source": [
    "Class='CSC'"
   ]
  },
  {
   "cell_type": "code",
   "execution_count": 20,
   "id": "e54fa9ad",
   "metadata": {},
   "outputs": [
    {
     "data": {
      "text/plain": [
       "'CSC'"
      ]
     },
     "execution_count": 20,
     "metadata": {},
     "output_type": "execute_result"
    }
   ],
   "source": [
    "Class"
   ]
  },
  {
   "cell_type": "code",
   "execution_count": 21,
   "id": "0360389c",
   "metadata": {},
   "outputs": [],
   "source": [
    "Homework='Week_03'"
   ]
  },
  {
   "cell_type": "code",
   "execution_count": 22,
   "id": "0ac69e4c",
   "metadata": {},
   "outputs": [
    {
     "data": {
      "text/plain": [
       "'Week_03'"
      ]
     },
     "execution_count": 22,
     "metadata": {},
     "output_type": "execute_result"
    }
   ],
   "source": [
    "Homework"
   ]
  },
  {
   "cell_type": "code",
   "execution_count": 23,
   "id": "0dd74b4c",
   "metadata": {},
   "outputs": [],
   "source": [
    "Question=4"
   ]
  },
  {
   "cell_type": "code",
   "execution_count": 32,
   "id": "3c2f2279",
   "metadata": {},
   "outputs": [],
   "source": [
    "Grade='Grade:10'"
   ]
  },
  {
   "cell_type": "code",
   "execution_count": 26,
   "id": "c89a8a51",
   "metadata": {},
   "outputs": [],
   "source": [
    "Date='September 18 2023'"
   ]
  },
  {
   "cell_type": "code",
   "execution_count": 27,
   "id": "fd1139b3",
   "metadata": {},
   "outputs": [
    {
     "data": {
      "text/plain": [
       "'September 18 2023'"
      ]
     },
     "execution_count": 27,
     "metadata": {},
     "output_type": "execute_result"
    }
   ],
   "source": [
    "Date"
   ]
  },
  {
   "cell_type": "code",
   "execution_count": 28,
   "id": "dcea4f21",
   "metadata": {},
   "outputs": [
    {
     "ename": "NameError",
     "evalue": "name 'Student_ID' is not defined",
     "output_type": "error",
     "traceback": [
      "\u001b[0;31m---------------------------------------------------------------------------\u001b[0m",
      "\u001b[0;31mNameError\u001b[0m                                 Traceback (most recent call last)",
      "\u001b[0;32m/tmp/ipykernel_4758/1587731348.py\u001b[0m in \u001b[0;36m<module>\u001b[0;34m\u001b[0m\n\u001b[0;32m----> 1\u001b[0;31m \u001b[0mStudent_ID\u001b[0m\u001b[0;34m\u001b[0m\u001b[0;34m\u001b[0m\u001b[0m\n\u001b[0m",
      "\u001b[0;31mNameError\u001b[0m: name 'Student_ID' is not defined"
     ]
    }
   ],
   "source": [
    "Student_ID"
   ]
  },
  {
   "cell_type": "code",
   "execution_count": 29,
   "id": "4c0a8553",
   "metadata": {},
   "outputs": [],
   "source": [
    "Student_ID = (Name, Class, Homework, Question, Grade, Date)"
   ]
  },
  {
   "cell_type": "code",
   "execution_count": 30,
   "id": "174a2598",
   "metadata": {},
   "outputs": [
    {
     "data": {
      "text/plain": [
       "('Jose', 'CSC', 'Week_03', 4, 10, 'September 18 2023')"
      ]
     },
     "execution_count": 30,
     "metadata": {},
     "output_type": "execute_result"
    }
   ],
   "source": [
    "Student_ID"
   ]
  },
  {
   "cell_type": "code",
   "execution_count": 31,
   "id": "6ea7eaa8",
   "metadata": {},
   "outputs": [
    {
     "data": {
      "text/plain": [
       "10"
      ]
     },
     "execution_count": 31,
     "metadata": {},
     "output_type": "execute_result"
    }
   ],
   "source": [
    "Student_ID[4]"
   ]
  },
  {
   "cell_type": "code",
   "execution_count": 33,
   "id": "0dddd2cb",
   "metadata": {},
   "outputs": [
    {
     "data": {
      "text/plain": [
       "('Jose', 'CSC', 'Week_03', 4, 10, 'September 18 2023')"
      ]
     },
     "execution_count": 33,
     "metadata": {},
     "output_type": "execute_result"
    }
   ],
   "source": [
    "Student_ID"
   ]
  },
  {
   "cell_type": "code",
   "execution_count": 34,
   "id": "db312d60",
   "metadata": {},
   "outputs": [
    {
     "data": {
      "text/plain": [
       "('Jose', 'CSC', 'Week_03', 4, 10, 'September 18 2023')"
      ]
     },
     "execution_count": 34,
     "metadata": {},
     "output_type": "execute_result"
    }
   ],
   "source": [
    "Student_ID"
   ]
  },
  {
   "cell_type": "code",
   "execution_count": 35,
   "id": "31ca26ce",
   "metadata": {},
   "outputs": [
    {
     "ename": "NameError",
     "evalue": "name 'weijnweiv' is not defined",
     "output_type": "error",
     "traceback": [
      "\u001b[0;31m---------------------------------------------------------------------------\u001b[0m",
      "\u001b[0;31mNameError\u001b[0m                                 Traceback (most recent call last)",
      "\u001b[0;32m/tmp/ipykernel_4758/2512807100.py\u001b[0m in \u001b[0;36m<module>\u001b[0;34m\u001b[0m\n\u001b[0;32m----> 1\u001b[0;31m \u001b[0mStudent_ID\u001b[0m\u001b[0;34m[\u001b[0m\u001b[0;36m4\u001b[0m\u001b[0;34m]\u001b[0m\u001b[0;34m=\u001b[0m\u001b[0mweijnweiv\u001b[0m\u001b[0;34m\u001b[0m\u001b[0;34m\u001b[0m\u001b[0m\n\u001b[0m",
      "\u001b[0;31mNameError\u001b[0m: name 'weijnweiv' is not defined"
     ]
    }
   ],
   "source": [
    "Student_ID[4]=weijnweiv"
   ]
  },
  {
   "cell_type": "code",
   "execution_count": 36,
   "id": "3e8b1c8a",
   "metadata": {},
   "outputs": [
    {
     "ename": "TypeError",
     "evalue": "'tuple' object does not support item assignment",
     "output_type": "error",
     "traceback": [
      "\u001b[0;31m---------------------------------------------------------------------------\u001b[0m",
      "\u001b[0;31mTypeError\u001b[0m                                 Traceback (most recent call last)",
      "\u001b[0;32m/tmp/ipykernel_4758/3617834083.py\u001b[0m in \u001b[0;36m<module>\u001b[0;34m\u001b[0m\n\u001b[0;32m----> 1\u001b[0;31m \u001b[0mStudent_ID\u001b[0m\u001b[0;34m[\u001b[0m\u001b[0;36m4\u001b[0m\u001b[0;34m]\u001b[0m\u001b[0;34m=\u001b[0m\u001b[0;36m5749\u001b[0m\u001b[0;34m\u001b[0m\u001b[0;34m\u001b[0m\u001b[0m\n\u001b[0m",
      "\u001b[0;31mTypeError\u001b[0m: 'tuple' object does not support item assignment"
     ]
    }
   ],
   "source": [
    "Student_ID[4]=5749"
   ]
  },
  {
   "cell_type": "code",
   "execution_count": 37,
   "id": "920feb7b",
   "metadata": {},
   "outputs": [],
   "source": [
    "tuple_A = (0, [1,2,3],(4,5,6),7.0)"
   ]
  },
  {
   "cell_type": "code",
   "execution_count": 38,
   "id": "ca984eb6",
   "metadata": {},
   "outputs": [
    {
     "data": {
      "text/plain": [
       "[1, 2, 3]"
      ]
     },
     "execution_count": 38,
     "metadata": {},
     "output_type": "execute_result"
    }
   ],
   "source": [
    "tuple_A[1]"
   ]
  },
  {
   "cell_type": "code",
   "execution_count": 40,
   "id": "2a229765",
   "metadata": {},
   "outputs": [
    {
     "data": {
      "text/plain": [
       "list"
      ]
     },
     "execution_count": 40,
     "metadata": {},
     "output_type": "execute_result"
    }
   ],
   "source": [
    "type (tuple_A[1])\n"
   ]
  },
  {
   "cell_type": "code",
   "execution_count": 1,
   "id": "8048e2ad",
   "metadata": {},
   "outputs": [],
   "source": [
    "#wednesday down below"
   ]
  },
  {
   "cell_type": "code",
   "execution_count": 2,
   "id": "10850158",
   "metadata": {},
   "outputs": [],
   "source": [
    "numbers=[1,2,3,4,5,6,7,8,9,10]"
   ]
  },
  {
   "cell_type": "code",
   "execution_count": 3,
   "id": "2acead0a",
   "metadata": {},
   "outputs": [
    {
     "data": {
      "text/plain": [
       "[1, 2, 3, 4, 5, 6, 7, 8, 9, 10]"
      ]
     },
     "execution_count": 3,
     "metadata": {},
     "output_type": "execute_result"
    }
   ],
   "source": [
    "numbers"
   ]
  },
  {
   "cell_type": "code",
   "execution_count": 4,
   "id": "dbee78d2",
   "metadata": {},
   "outputs": [],
   "source": [
    "#create list for odd numbers"
   ]
  },
  {
   "cell_type": "code",
   "execution_count": 5,
   "id": "5a356ece",
   "metadata": {},
   "outputs": [],
   "source": [
    "odd=[1,3,5,7,9]"
   ]
  },
  {
   "cell_type": "code",
   "execution_count": 6,
   "id": "4cfe899e",
   "metadata": {},
   "outputs": [
    {
     "data": {
      "text/plain": [
       "list"
      ]
     },
     "execution_count": 6,
     "metadata": {},
     "output_type": "execute_result"
    }
   ],
   "source": [
    "type(odd)"
   ]
  },
  {
   "cell_type": "code",
   "execution_count": 8,
   "id": "3f7091c3",
   "metadata": {},
   "outputs": [],
   "source": [
    "Name='Jose'"
   ]
  },
  {
   "cell_type": "code",
   "execution_count": 9,
   "id": "cf9a464e",
   "metadata": {},
   "outputs": [],
   "source": [
    "Class='CSC'"
   ]
  },
  {
   "cell_type": "code",
   "execution_count": 10,
   "id": "f75ae081",
   "metadata": {},
   "outputs": [],
   "source": [
    "Homework='List'"
   ]
  },
  {
   "cell_type": "code",
   "execution_count": 11,
   "id": "ca94dfc2",
   "metadata": {},
   "outputs": [],
   "source": [
    "Question='List'"
   ]
  },
  {
   "cell_type": "code",
   "execution_count": 12,
   "id": "321f4a0c",
   "metadata": {},
   "outputs": [],
   "source": [
    "Grade='sophmore'"
   ]
  },
  {
   "cell_type": "code",
   "execution_count": 13,
   "id": "92c017e2",
   "metadata": {},
   "outputs": [],
   "source": [
    "Date='September 20, 2023'"
   ]
  },
  {
   "cell_type": "code",
   "execution_count": 17,
   "id": "94deac9b",
   "metadata": {},
   "outputs": [],
   "source": [
    "Student_ID=[Name, Class, Homework, Question, Grade, Date]"
   ]
  },
  {
   "cell_type": "code",
   "execution_count": 15,
   "id": "0dc2570c",
   "metadata": {},
   "outputs": [
    {
     "data": {
      "text/plain": [
       "('Jose', 'CSC', 'List', 'List', 'sophmore', 'September 20, 2023')"
      ]
     },
     "execution_count": 15,
     "metadata": {},
     "output_type": "execute_result"
    }
   ],
   "source": [
    "Student_ID"
   ]
  },
  {
   "cell_type": "code",
   "execution_count": 16,
   "id": "d56e5f45",
   "metadata": {},
   "outputs": [
    {
     "data": {
      "text/plain": [
       "tuple"
      ]
     },
     "execution_count": 16,
     "metadata": {},
     "output_type": "execute_result"
    }
   ],
   "source": [
    "type(Student_ID)"
   ]
  },
  {
   "cell_type": "code",
   "execution_count": 18,
   "id": "0e328f15",
   "metadata": {},
   "outputs": [
    {
     "data": {
      "text/plain": [
       "list"
      ]
     },
     "execution_count": 18,
     "metadata": {},
     "output_type": "execute_result"
    }
   ],
   "source": [
    "type(Student_ID)"
   ]
  },
  {
   "cell_type": "code",
   "execution_count": 19,
   "id": "babaa9ee",
   "metadata": {},
   "outputs": [
    {
     "data": {
      "text/plain": [
       "['Jose', 'CSC', 'List', 'List', 'sophmore', 'September 20, 2023']"
      ]
     },
     "execution_count": 19,
     "metadata": {},
     "output_type": "execute_result"
    }
   ],
   "source": [
    "Student_ID"
   ]
  },
  {
   "cell_type": "code",
   "execution_count": 20,
   "id": "9bc26ce4",
   "metadata": {},
   "outputs": [
    {
     "data": {
      "text/plain": [
       "'sophmore'"
      ]
     },
     "execution_count": 20,
     "metadata": {},
     "output_type": "execute_result"
    }
   ],
   "source": [
    "Student_ID[4]"
   ]
  },
  {
   "cell_type": "code",
   "execution_count": 21,
   "id": "e1d87d65",
   "metadata": {},
   "outputs": [],
   "source": [
    "Student_ID[4]='A'"
   ]
  },
  {
   "cell_type": "code",
   "execution_count": 22,
   "id": "fd54c9d7",
   "metadata": {},
   "outputs": [
    {
     "data": {
      "text/plain": [
       "['Jose', 'CSC', 'List', 'List', 'A', 'September 20, 2023']"
      ]
     },
     "execution_count": 22,
     "metadata": {},
     "output_type": "execute_result"
    }
   ],
   "source": [
    "Student_ID"
   ]
  },
  {
   "cell_type": "code",
   "execution_count": 23,
   "id": "6bd9c29c",
   "metadata": {},
   "outputs": [
    {
     "data": {
      "text/plain": [
       "'A'"
      ]
     },
     "execution_count": 23,
     "metadata": {},
     "output_type": "execute_result"
    }
   ],
   "source": [
    "Student_ID[4]"
   ]
  },
  {
   "cell_type": "code",
   "execution_count": 28,
   "id": "911c2a04",
   "metadata": {},
   "outputs": [
    {
     "ename": "TypeError",
     "evalue": "descriptor 'append' for 'list' objects doesn't apply to a 'str' object",
     "output_type": "error",
     "traceback": [
      "\u001b[0;31m---------------------------------------------------------------------------\u001b[0m",
      "\u001b[0;31mTypeError\u001b[0m                                 Traceback (most recent call last)",
      "\u001b[0;32m/tmp/ipykernel_3216/1422994746.py\u001b[0m in \u001b[0;36m<module>\u001b[0;34m\u001b[0m\n\u001b[0;32m----> 1\u001b[0;31m \u001b[0mlist\u001b[0m\u001b[0;34m.\u001b[0m\u001b[0mappend\u001b[0m\u001b[0;34m(\u001b[0m\u001b[0;34m'School'\u001b[0m\u001b[0;34m)\u001b[0m\u001b[0;34m\u001b[0m\u001b[0;34m\u001b[0m\u001b[0m\n\u001b[0m",
      "\u001b[0;31mTypeError\u001b[0m: descriptor 'append' for 'list' objects doesn't apply to a 'str' object"
     ]
    }
   ],
   "source": [
    "list.append('School')"
   ]
  },
  {
   "cell_type": "code",
   "execution_count": 29,
   "id": "3d762765",
   "metadata": {},
   "outputs": [],
   "source": [
    "School='Umary'"
   ]
  },
  {
   "cell_type": "code",
   "execution_count": 30,
   "id": "0e8dc6da",
   "metadata": {},
   "outputs": [
    {
     "ename": "TypeError",
     "evalue": "descriptor 'append' for 'list' objects doesn't apply to a 'str' object",
     "output_type": "error",
     "traceback": [
      "\u001b[0;31m---------------------------------------------------------------------------\u001b[0m",
      "\u001b[0;31mTypeError\u001b[0m                                 Traceback (most recent call last)",
      "\u001b[0;32m/tmp/ipykernel_3216/1422994746.py\u001b[0m in \u001b[0;36m<module>\u001b[0;34m\u001b[0m\n\u001b[0;32m----> 1\u001b[0;31m \u001b[0mlist\u001b[0m\u001b[0;34m.\u001b[0m\u001b[0mappend\u001b[0m\u001b[0;34m(\u001b[0m\u001b[0;34m'School'\u001b[0m\u001b[0;34m)\u001b[0m\u001b[0;34m\u001b[0m\u001b[0;34m\u001b[0m\u001b[0m\n\u001b[0m",
      "\u001b[0;31mTypeError\u001b[0m: descriptor 'append' for 'list' objects doesn't apply to a 'str' object"
     ]
    }
   ],
   "source": [
    "list.append('School')"
   ]
  },
  {
   "cell_type": "code",
   "execution_count": 31,
   "id": "1aeb5484",
   "metadata": {},
   "outputs": [],
   "source": [
    "Student_ID.append('School')"
   ]
  },
  {
   "cell_type": "code",
   "execution_count": 32,
   "id": "cdc0fb95",
   "metadata": {},
   "outputs": [
    {
     "data": {
      "text/plain": [
       "['Jose', 'CSC', 'List', 'List', 'A', 'September 20, 2023', 'School']"
      ]
     },
     "execution_count": 32,
     "metadata": {},
     "output_type": "execute_result"
    }
   ],
   "source": [
    "Student_ID"
   ]
  },
  {
   "cell_type": "code",
   "execution_count": 33,
   "id": "e8ee788d",
   "metadata": {},
   "outputs": [
    {
     "ename": "ValueError",
     "evalue": "list.remove(x): x not in list",
     "output_type": "error",
     "traceback": [
      "\u001b[0;31m---------------------------------------------------------------------------\u001b[0m",
      "\u001b[0;31mValueError\u001b[0m                                Traceback (most recent call last)",
      "\u001b[0;32m/tmp/ipykernel_3216/3097105994.py\u001b[0m in \u001b[0;36m<module>\u001b[0;34m\u001b[0m\n\u001b[0;32m----> 1\u001b[0;31m \u001b[0mStudent_ID\u001b[0m\u001b[0;34m.\u001b[0m\u001b[0mremove\u001b[0m\u001b[0;34m(\u001b[0m\u001b[0mGrade\u001b[0m\u001b[0;34m)\u001b[0m\u001b[0;34m\u001b[0m\u001b[0;34m\u001b[0m\u001b[0m\n\u001b[0m",
      "\u001b[0;31mValueError\u001b[0m: list.remove(x): x not in list"
     ]
    }
   ],
   "source": [
    "Student_ID.remove(Grade)"
   ]
  },
  {
   "cell_type": "code",
   "execution_count": 34,
   "id": "42d998c9",
   "metadata": {},
   "outputs": [],
   "source": [
    "Student_ID.insert(1,'JOSE')"
   ]
  },
  {
   "cell_type": "code",
   "execution_count": 39,
   "id": "3b07ba1e",
   "metadata": {},
   "outputs": [
    {
     "data": {
      "text/plain": [
       "['Jose', 'JOSE', 'CSC', 'A', 'September 20, 2023', 'School']"
      ]
     },
     "execution_count": 39,
     "metadata": {},
     "output_type": "execute_result"
    }
   ],
   "source": [
    "Student_ID"
   ]
  },
  {
   "cell_type": "code",
   "execution_count": 38,
   "id": "249ca776",
   "metadata": {},
   "outputs": [],
   "source": [
    "Student_ID.remove('List')"
   ]
  },
  {
   "cell_type": "code",
   "execution_count": 40,
   "id": "e42ee65e",
   "metadata": {},
   "outputs": [],
   "source": [
    "Student_ID.remove('A')"
   ]
  },
  {
   "cell_type": "code",
   "execution_count": 41,
   "id": "445254d5",
   "metadata": {},
   "outputs": [
    {
     "data": {
      "text/plain": [
       "['Jose', 'JOSE', 'CSC', 'September 20, 2023', 'School']"
      ]
     },
     "execution_count": 41,
     "metadata": {},
     "output_type": "execute_result"
    }
   ],
   "source": [
    "Student_ID"
   ]
  },
  {
   "cell_type": "code",
   "execution_count": 42,
   "id": "a2f771a2",
   "metadata": {},
   "outputs": [],
   "source": [
    "Student_ID.extend('Jose')"
   ]
  },
  {
   "cell_type": "code",
   "execution_count": 43,
   "id": "5d57a854",
   "metadata": {},
   "outputs": [
    {
     "data": {
      "text/plain": [
       "['Jose', 'JOSE', 'CSC', 'September 20, 2023', 'School', 'J', 'o', 's', 'e']"
      ]
     },
     "execution_count": 43,
     "metadata": {},
     "output_type": "execute_result"
    }
   ],
   "source": [
    "Student_ID"
   ]
  },
  {
   "cell_type": "code",
   "execution_count": 44,
   "id": "06a64548",
   "metadata": {},
   "outputs": [],
   "source": [
    "PI=['Jose','UMARYaddress','stoneb7@zoho.com','916.620.5291']"
   ]
  },
  {
   "cell_type": "code",
   "execution_count": 45,
   "id": "f29f86c7",
   "metadata": {},
   "outputs": [],
   "source": [
    "AI=[\"UMARY,Engineering,Sophomore,3,A\"]"
   ]
  },
  {
   "cell_type": "code",
   "execution_count": 46,
   "id": "698275c0",
   "metadata": {},
   "outputs": [],
   "source": [
    "PI.extend(AI)"
   ]
  },
  {
   "cell_type": "code",
   "execution_count": 47,
   "id": "20cd6e92",
   "metadata": {},
   "outputs": [
    {
     "data": {
      "text/plain": [
       "['Jose',\n",
       " 'UMARYaddress',\n",
       " 'stoneb7@zoho.com',\n",
       " '916.620.5291',\n",
       " 'UMARY,Engineering,Sophomore,3,A']"
      ]
     },
     "execution_count": 47,
     "metadata": {},
     "output_type": "execute_result"
    }
   ],
   "source": [
    "PI"
   ]
  },
  {
   "cell_type": "code",
   "execution_count": 48,
   "id": "d1943394",
   "metadata": {},
   "outputs": [],
   "source": [
    "List_AA=[0,[1,2,3],(4,5,6),7.0]"
   ]
  },
  {
   "cell_type": "code",
   "execution_count": 49,
   "id": "e5b13f2c",
   "metadata": {},
   "outputs": [
    {
     "data": {
      "text/plain": [
       "7.0"
      ]
     },
     "execution_count": 49,
     "metadata": {},
     "output_type": "execute_result"
    }
   ],
   "source": [
    "List_AA[3]"
   ]
  },
  {
   "cell_type": "code",
   "execution_count": 50,
   "id": "5cc03585",
   "metadata": {},
   "outputs": [
    {
     "data": {
      "text/plain": [
       "tuple"
      ]
     },
     "execution_count": 50,
     "metadata": {},
     "output_type": "execute_result"
    }
   ],
   "source": [
    "type(List_AA[2])"
   ]
  },
  {
   "cell_type": "code",
   "execution_count": 51,
   "id": "0a4ba480",
   "metadata": {},
   "outputs": [],
   "source": [
    "#you can in theory, but if you change the parentheses to brackets, because the tuple cannot be changed, but a list can"
   ]
  },
  {
   "cell_type": "code",
   "execution_count": null,
   "id": "cf2bef1e",
   "metadata": {},
   "outputs": [],
   "source": []
  }
 ],
 "metadata": {
  "kernelspec": {
   "display_name": "Python 3 (ipykernel)",
   "language": "python",
   "name": "python3"
  },
  "language_info": {
   "codemirror_mode": {
    "name": "ipython",
    "version": 3
   },
   "file_extension": ".py",
   "mimetype": "text/x-python",
   "name": "python",
   "nbconvert_exporter": "python",
   "pygments_lexer": "ipython3",
   "version": "3.10.12"
  }
 },
 "nbformat": 4,
 "nbformat_minor": 5
}
